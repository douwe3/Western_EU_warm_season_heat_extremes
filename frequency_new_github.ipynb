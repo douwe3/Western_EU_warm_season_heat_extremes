{
  "cells": [
    {
      "cell_type": "markdown",
      "metadata": {
        "id": "GI7r2VNmDTtN"
      },
      "source": [
        "# **Notes**\n",
        "### Purpose: Visualize the changes in frequency based on an euclidian distance threshold\n",
        "Notes:\n"
      ]
    },
    {
      "cell_type": "markdown",
      "metadata": {
        "id": "H0ab46MpDTtT"
      },
      "source": [
        "# **Preparation**"
      ]
    },
    {
      "cell_type": "code",
      "execution_count": null,
      "metadata": {
        "id": "DBoOp7xbDTtU"
      },
      "outputs": [],
      "source": [
        "import numpy as np # for storing vector and matrix data\n",
        "import matplotlib.pyplot as plt # to plot figures\n",
        "import netCDF4 as nc #to read netCDF files\n",
        "import cartopy.crs as ccrs # to plot maps\n",
        "# (ergens in test ook: import cartopy as cart)\n",
        "import cartopy.feature as cf\n",
        "# from matplotlib import ticker\n",
        "import scipy.io\n",
        "from scipy.stats import pearsonr # voor persistence\n",
        "import scipy.stats as stats\n",
        "# from cartopy.util import add_cyclic_point\n",
        "import os\n",
        "from datetime import datetime, timedelta\n",
        "from matplotlib.colors import CenteredNorm\n",
        "from matplotlib.lines import Line2D"
      ]
    },
    {
      "cell_type": "markdown",
      "metadata": {
        "id": "pJ_HoZF-DTtW"
      },
      "source": [
        "# **Functions**"
      ]
    },
    {
      "cell_type": "code",
      "execution_count": null,
      "metadata": {
        "id": "QoiVtEyeDTtX"
      },
      "outputs": [],
      "source": [
        "def load_data(path,*variables_to_add):\n",
        "  \"\"\"\n",
        "Provide the path to a file and the variables you want to extract\n",
        "  \"\"\"\n",
        "  data = nc.Dataset(path, mode='r')\n",
        "  variable_list = []\n",
        "  for variable in variables_to_add:\n",
        "    var =data.variables[variable][:]\n",
        "    variable_list.append(var)\n",
        "  return variable_list"
      ]
    },
    {
      "cell_type": "code",
      "execution_count": null,
      "metadata": {
        "id": "yfbuw4M-DTtX"
      },
      "outputs": [],
      "source": [
        "def extract_area(S, N, W, E, lat, lon, variable,event = False):\n",
        "    \"\"\"\n",
        "    This function slices the data given the S, N, W, E bounds. Use event = True if there are only two dimensions (since then there is no time dimension), this means after using this\n",
        "    function you need to use event[0] to get the data\n",
        "    \"\"\"\n",
        "    # Change longitude data to go from -180 to 180\n",
        "    for i in range(len(lon)):\n",
        "        if lon[i] > 180:\n",
        "          lon[i] = lon[i] - 360\n",
        "        else:\n",
        "          lon[i] = lon[i]\n",
        "\n",
        "    # Calculate the index of the bounds\n",
        "    sIndex = np.argmin(np.abs(lat - S))\n",
        "    nIndex = np.argmin(np.abs(lat - N))\n",
        "    wIndex = np.argmin(np.abs(lon - W))\n",
        "    eIndex = np.argmin(np.abs(lon - E))\n",
        "\n",
        "    if event:\n",
        "        variable = np.expand_dims(variable, axis = 0)\n",
        "\n",
        "    if wIndex > eIndex: # If the west index is higher than the east index, think of the right side of the world map as left boundary and vice versa\n",
        "        latSlice = lat[sIndex: nIndex + 1]\n",
        "        lonSlice = np.concatenate((lon[wIndex:], lon[:eIndex + 1]))\n",
        "        variableSlice = np.concatenate((variable[:, sIndex: nIndex + 1, wIndex:], variable[:, sIndex: nIndex + 1, :eIndex + 1]), axis = 2)\n",
        "\n",
        "    else:\n",
        "        latSlice = lat[sIndex: nIndex + 1]\n",
        "        lonSlice = lon[wIndex: eIndex + 1]\n",
        "        variableSlice = variable[:, sIndex: nIndex + 1, wIndex: eIndex + 1]\n",
        "\n",
        "    return latSlice, lonSlice, variableSlice"
      ]
    },
    {
      "cell_type": "code",
      "execution_count": null,
      "metadata": {
        "id": "4j4jlfAQDTtw"
      },
      "outputs": [],
      "source": [
        "def plot_variablet(lat, lon, variable,folder,name):\n",
        "    plt.figure(figsize = (10,10))\n",
        "    ax = plt.axes(projection = ccrs.PlateCarree())\n",
        "    plot = plt.contourf(lon, lat, variable, cmap = \"RdBu_r\", transform = ccrs.PlateCarree(), levels = 15) #levels=np.linspace(-8.2e7, 1e7, 10), extend='both\n",
        "    ax.coastlines()\n",
        "    ax.add_feature(cf.BORDERS)\n",
        "    plt.colorbar(plot, ax=ax, orientation = \"horizontal\", label = \"Streamfunction (m²/s)\", pad = 0.05)\n",
        "    #plt.savefig(f\"{folder}/{name}.png\",dpi=300)\n",
        "    plt.show()\n",
        "    plt.close()"
      ]
    },
    {
      "cell_type": "code",
      "execution_count": null,
      "metadata": {
        "id": "Pv2Tdw3fDTtx"
      },
      "outputs": [],
      "source": [
        "def plot_variablelevels(lat, lon, variable,folder,name):\n",
        "    plt.figure(figsize = (10,10))\n",
        "    ax = plt.axes(projection = ccrs.PlateCarree())\n",
        "    plot = plt.contourf(lon, lat, variable, cmap = \"RdBu_r\", transform = ccrs.PlateCarree(), levels = np.linspace(-2.4*1e7,2.4*1e7,17),extend = \"both\") #levels=np.linspace(-8.2e7, 1e7, 10), extend='both\n",
        "    ax.coastlines()\n",
        "    ax.add_feature(cf.BORDERS)\n",
        "    plt.colorbar(plot, ax=ax, orientation = \"horizontal\", label = \"Streamfunction (x$10^7$ m$^2$/s)\", pad = 0.05)\n",
        "    #plt.savefig(f\"{folder}/{name}.png\",dpi=300)\n",
        "    plt.show()\n",
        "    plt.close()"
      ]
    },
    {
      "cell_type": "code",
      "execution_count": null,
      "metadata": {
        "id": "HRdlPD3xDTty"
      },
      "outputs": [],
      "source": [
        "def lists_for_era5_dates(final_year,final_month,final_day):\n",
        "    \"\"\"\n",
        "    Creates lists with all months and years in the complete ERA5 data, taking into account leap days (schrikkeldagen)\n",
        "    \"\"\"\n",
        "    start_date_all_era5_data = datetime(1950, 1, 1) # Is included\n",
        "    end_date_all_era5_data = datetime(final_year,final_month,final_day) # Is included\n",
        "    delta_time = timedelta(days=1)\n",
        "\n",
        "    date_list_basic = []\n",
        "    current_date = start_date_all_era5_data\n",
        "    while current_date <= end_date_all_era5_data:\n",
        "        date_list_basic.append(current_date)\n",
        "        current_date += delta_time\n",
        "    date_strings = [date.strftime('%Y-%m-%d') for date in date_list_basic]\n",
        "    month_list = [date.month for date in date_list_basic]\n",
        "    year_list = [date.year for date in date_list_basic]\n",
        "\n",
        "    return month_list, year_list, date_strings"
      ]
    },
    {
      "cell_type": "code",
      "execution_count": null,
      "metadata": {
        "id": "-z2Jlr74DTtz"
      },
      "outputs": [],
      "source": [
        "def extract_years_and_months_era5(era5_data,desired_start_month,desired_end_month,desired_start_year,desired_end_year,list_with_all_months,list_with_all_years):\n",
        "    \"\"\"\n",
        "    Slice era5 data based on the months and years, months and years that are used as input variable will be included as well\n",
        "    \"\"\"\n",
        "    if era5_data.shape[0] != len(list_with_all_months):\n",
        "        print (\"Error: Amount of days in the data and list with all dates are not the same\")\n",
        "\n",
        "    list_for_filtered_era5_data = []\n",
        "    list_for_filtered_years = []\n",
        "    list_for_filtered_months = []\n",
        "    for i in range(era5_data.shape[0]):\n",
        "        month_at_index = list_with_all_months[i]\n",
        "        year_at_index = list_with_all_years[i]\n",
        "        if month_at_index >= desired_start_month and month_at_index <= desired_end_month and year_at_index >= desired_start_year and year_at_index <= desired_end_year:\n",
        "            data_to_select = era5_data[i,:,:]\n",
        "            list_for_filtered_era5_data.append(data_to_select)\n",
        "            list_for_filtered_years.append(year_at_index)\n",
        "            list_for_filtered_months.append(month_at_index)\n",
        "    array_selected_era5_data = np.array(list_for_filtered_era5_data)\n",
        "\n",
        "    return array_selected_era5_data, list_for_filtered_years, list_for_filtered_months"
      ]
    },
    {
      "cell_type": "code",
      "execution_count": null,
      "metadata": {
        "id": "l0Ilie0BDTtz"
      },
      "outputs": [],
      "source": [
        "def euclidian_distance(data, event):\n",
        "  \"\"\"\n",
        "Calculates the euclidian distance for each day in the data compared to a given single event, gives an array (~list) of all the distances in chronological order\n",
        "  \"\"\"\n",
        "  return np.sqrt(np.sum((data - event)**2, axis = (1, 2)))"
      ]
    },
    {
      "cell_type": "code",
      "execution_count": null,
      "metadata": {
        "id": "u6F7a2vDDTtz"
      },
      "outputs": [],
      "source": [
        "def frequency(euclidian_distances, euclidian_threshold,analogue_seperation_range,list_months,list_years,desired_start_month,desired_end_month,event_is_in_data = True):\n",
        "  \"\"\"\n",
        "  Determine the best analogues. Give an array of all unsorted euclidan distances. The analogue_seperation_range determines how many days have to seperate\n",
        "  the different analogues (if analogue_seperation_range = 5, the fifth day after an analogue can also still not be a new analogue(dus die dag mag ook niet)).\n",
        "  Target_number_of_analogues is how many analogues are selected. Returns the indexes of the best analogues in the original data, and the euclidian distances corresponding to the analogues.\n",
        "  Give semi-filtered data to euclidian_distances: filtered on years but all months, so the seperation range doesn't continue to count in the next season\n",
        "  Should give semi-filtered lists of months and years as well??\n",
        "  \"\"\"\n",
        "  distance_index_dictionary = {value: index for index, value in enumerate(euclidian_distances)} # Gives the index in the original euclidian distances list for a value in the sorted list\n",
        "  sorted_distances = np.sort(euclidian_distances) # sort the distances from low to high euclidian distances\n",
        "  analogues_index_list = [] # create a list to save the indexes of the selected analogues\n",
        "  euclidian_distance_list = [] # create a list to save the euclidian distances of the selected analogues\n",
        "  selected_analogue_years = []\n",
        "  distance_condition = 0\n",
        "  if event_is_in_data == False:\n",
        "    i = 0\n",
        "    #if sorted_distances[0] == 0:\n",
        "      #print (\"WARNING: event does seem to be in data, while event_is_in_data == False (zelf)\")\n",
        "    while distance_condition <= euclidian_threshold and (i < len(euclidian_distances)):\n",
        "      differences= []\n",
        "      index = distance_index_dictionary[sorted_distances[i]]\n",
        "      month = list_months[index]\n",
        "      year = list_years[index]\n",
        "      if len(analogues_index_list) == 0:\n",
        "        if month >= desired_start_month and month <= desired_end_month and sorted_distances[i] <= euclidian_threshold:\n",
        "          analogues_index_list.append(index)\n",
        "          euclidian_distance_list.append(sorted_distances[i])\n",
        "          selected_analogue_years.append(month)\n",
        "        i = i + 1\n",
        "      else:\n",
        "        if month >= desired_start_month and month <= desired_end_month and sorted_distances[i] <= euclidian_threshold:\n",
        "          for item in analogues_index_list:\n",
        "            difference = (index-item)\n",
        "            if difference < (-1*analogue_seperation_range) or difference > analogue_seperation_range:\n",
        "              differences.append(2) #goed\n",
        "            elif difference >= (-1*analogue_seperation_range) and difference <= (analogue_seperation_range):\n",
        "              differences.append(1) #niet goed\n",
        "          if min(differences) == 2:\n",
        "            analogues_index_list.append(index)\n",
        "            euclidian_distance_list.append(sorted_distances[i])\n",
        "            selected_analogue_years.append(month)\n",
        "            i = i + 1\n",
        "          elif min(differences) == 1:\n",
        "            i = i + 1\n",
        "        else:\n",
        "          i = i + 1\n",
        "      distance_condition = sorted_distances[i] # i want hebt hiervoor al i + 1 gedaan\n",
        "\n",
        "  elif event_is_in_data == True: #Need to make sure the selected analogues are also 5 days away from the event, eventhough it is not a selecgted analogue\n",
        "    event_index = distance_index_dictionary[sorted_distances[0]]\n",
        "    analogues_index_list.append(event_index)\n",
        "    i=1 #index counter\n",
        "    if sorted_distances[0] != 0:\n",
        "      print (\"WARNING: event does not seem to be in data, while event_is_in_data == True (zelf)\")\n",
        "    while distance_condition <= euclidian_threshold and (i < len(euclidian_distances)): #+1 omdat event er nu ook in en die later weghalen\n",
        "      differences= []\n",
        "      index = distance_index_dictionary[sorted_distances[i]]\n",
        "      month = list_months[index]\n",
        "      year = list_years[index]\n",
        "      if len(analogues_index_list) == 0:\n",
        "        if month >= desired_start_month and month <= desired_end_month and sorted_distances[i] <= euclidian_threshold:\n",
        "          analogues_index_list.append(index)\n",
        "          euclidian_distance_list.append(sorted_distances[i])\n",
        "          selected_analogue_years.append(month)\n",
        "        i = i + 1\n",
        "      else:\n",
        "        if month >= desired_start_month and month <= desired_end_month and sorted_distances[i] <= euclidian_threshold:\n",
        "          for item in analogues_index_list:\n",
        "            difference = (index-item)\n",
        "            if difference < (-1*analogue_seperation_range) or difference > analogue_seperation_range:\n",
        "              differences.append(2) #goed\n",
        "            elif difference >= (-1*analogue_seperation_range) and difference <= (analogue_seperation_range):\n",
        "              differences.append(1) #niet goed\n",
        "          if min(differences) == 2:\n",
        "            analogues_index_list.append(index)\n",
        "            euclidian_distance_list.append(sorted_distances[i])\n",
        "            selected_analogue_years.append(month)\n",
        "            i = i + 1\n",
        "          elif min(differences) == 1:\n",
        "            i = i + 1\n",
        "        else:\n",
        "          i = i + 1\n",
        "      distance_condition = sorted_distances[i] # i want hebt hiervoor al i + 1 gedaan\n",
        "    analogues_index_list.pop(0)\n",
        "\n",
        "\n",
        "  if len(euclidian_distance_list) > 0  and (np.min(euclidian_distance_list)) == 0:\n",
        "      print (\"WARNING: event was in data but has not been filtered (zelf)\")\n",
        "  if len(euclidian_distance_list) > 0  and max(euclidian_distance_list) > euclidian_threshold:\n",
        "    print (f\"WARNING: the max euclidian distance ({max(euclidian_distance_list)}) exceeds the threshold ({euclidian_threshold}) (zelf)\")\n",
        "\n",
        "  print (f\"The amount of analogues found equals {len(analogues_index_list)} (={len(euclidian_distance_list)})\")\n",
        "  return analogues_index_list,euclidian_distance_list,selected_analogue_years"
      ]
    },
    {
      "cell_type": "code",
      "execution_count": null,
      "metadata": {
        "id": "k08CPDw9DTt0"
      },
      "outputs": [],
      "source": [
        "def determine_analogues_era5(euclidian_distances, target_number_of_analogues,analogue_seperation_range,list_months,list_years,desired_start_month,desired_end_month,event_is_in_data = True):\n",
        "  \"\"\"\n",
        "  Determine the best analogues. Give an array of all unsorted euclidan distances. The analogue_seperation_range determines how many days have to seperate\n",
        "  the different analogues (if analogue_seperation_range = 5, the fifth day after an analogue can also still not be a new analogue(dus die dag mag ook niet)).\n",
        "  Target_number_of_analogues is how many analogues are selected. Returns the indexes of the best analogues in the original data, and the euclidian distances corresponding to the analogues.\n",
        "  Give semi-filtered data to euclidian_distances: filtered on years but all months, so the seperation range doesn't continue to count in the next season\n",
        "  Should give semi-filtered lists of months and years as well??\n",
        "  \"\"\"\n",
        "  distance_index_dictionary = {value: index for index, value in enumerate(euclidian_distances)} # Gives the index in the original euclidian distances list for a value in the sorted list\n",
        "  sorted_distances = np.sort(euclidian_distances) # sort the distances from low to high euclidian distances\n",
        "  analogues_index_list = [] # create a list to save the indexes of the selected analogues\n",
        "  euclidian_distance_list = [] # create a list to save the euclidian distances of the selected analogues\n",
        "  selected_analogue_years = []\n",
        "  if event_is_in_data == False:\n",
        "    i = 0\n",
        "    if sorted_distances[0] == 0:\n",
        "      print (\"WARNING: event does seem to be in data, while event_is_in_data == False (zelf)\")\n",
        "    while len(analogues_index_list) < target_number_of_analogues and (i < len(euclidian_distances)):\n",
        "      differences= []\n",
        "      index = distance_index_dictionary[sorted_distances[i]]\n",
        "      month = list_months[index]\n",
        "      year = list_years[index]\n",
        "      if len(analogues_index_list) == 0:\n",
        "        if month >= desired_start_month and month <= desired_end_month:\n",
        "          analogues_index_list.append(index)\n",
        "          euclidian_distance_list.append(sorted_distances[i])\n",
        "          selected_analogue_years.append(year)\n",
        "        i = i + 1\n",
        "      else:\n",
        "        if month >= desired_start_month and month <= desired_end_month:\n",
        "          for item in analogues_index_list:\n",
        "            difference = (index-item)\n",
        "            if difference < (-1*analogue_seperation_range) or difference > analogue_seperation_range:\n",
        "              differences.append(2) #goed\n",
        "            elif difference >= (-1*analogue_seperation_range) and difference <= (analogue_seperation_range):\n",
        "              differences.append(1) #niet goed\n",
        "          if min(differences) == 2:\n",
        "            analogues_index_list.append(index)\n",
        "            euclidian_distance_list.append(sorted_distances[i])\n",
        "            selected_analogue_years.append(year)\n",
        "            i = i + 1\n",
        "          elif min(differences) == 1:\n",
        "            i = i + 1\n",
        "        else:\n",
        "          i = i + 1\n",
        "\n",
        "  elif event_is_in_data == True: #Need to make sure the selected analogues are also 5 days away from the event, eventhough it is not a selecgted analogue\n",
        "    event_index = distance_index_dictionary[sorted_distances[0]]\n",
        "    analogues_index_list.append(event_index)\n",
        "    i=1 #index counter\n",
        "    if sorted_distances[0] != 0:\n",
        "      print (\"WARNING: event does not seem to be in data, while event_is_in_data == True (zelf)\")\n",
        "    while len(analogues_index_list) < (target_number_of_analogues+1) and (i < len(euclidian_distances)): #+1 omdat event er nu ook in en die later weghalen\n",
        "      differences= []\n",
        "      index = distance_index_dictionary[sorted_distances[i]]\n",
        "      month = list_months[index]\n",
        "      year = list_years[index]\n",
        "      if len(analogues_index_list) == 0:\n",
        "        if month >= desired_start_month and month <= desired_end_month:\n",
        "          analogues_index_list.append(index)\n",
        "          euclidian_distance_list.append(sorted_distances[i])\n",
        "          selected_analogue_years.append(year)\n",
        "        i = i + 1\n",
        "      else:\n",
        "        if month >= desired_start_month and month <= desired_end_month:\n",
        "          for item in analogues_index_list:\n",
        "            difference = (index-item)\n",
        "            if difference < (-1*analogue_seperation_range) or difference > analogue_seperation_range:\n",
        "              differences.append(2) #goed\n",
        "            elif difference >= (-1*analogue_seperation_range) and difference <= (analogue_seperation_range):\n",
        "              differences.append(1) #niet goed\n",
        "          if min(differences) == 2:\n",
        "            analogues_index_list.append(index)\n",
        "            euclidian_distance_list.append(sorted_distances[i])\n",
        "            selected_analogue_years.append(year)\n",
        "            i = i + 1\n",
        "          elif min(differences) == 1:\n",
        "            i = i + 1\n",
        "        else:\n",
        "          i = i + 1\n",
        "    analogues_index_list.pop(0)\n",
        "\n",
        "  if len(analogues_index_list) < target_number_of_analogues:\n",
        "    print (\"WARNING: not enough data to find the required amount of analogues (zelf)\")\n",
        "  if len(analogues_index_list) != target_number_of_analogues:\n",
        "    print (\"WARNING: not the right amount of analogues has been found\")\n",
        "  return analogues_index_list,euclidian_distance_list,selected_analogue_years"
      ]
    },
    {
      "cell_type": "code",
      "execution_count": null,
      "metadata": {
        "id": "6fpGnli-DTt0"
      },
      "outputs": [],
      "source": [
        "def determine_analogues_era5_old(euclidian_distances, target_number_of_analogues,analogue_seperation_range,list_months,list_years,desired_start_month,desired_end_month,event_is_in_data = True):\n",
        "  \"\"\"\n",
        "  Determine the best analogues. Give an array of all unsorted euclidan distances. The analogue_seperation_range determines how many days have to seperate\n",
        "  the different analogues (if analogue_seperation_range = 5, the fifth day after an analogue can also still not be a new analogue(dus die dag mag ook niet)).\n",
        "  Target_number_of_analogues is how many analogues are selected. Returns the indexes of the best analogues in the original data, and the euclidian distances corresponding to the analogues.\n",
        "  Give semi-filtered data to euclidian_distances: filtered on years but all months, so the seperation range doesn't continue to count in the next season\n",
        "  Should give semi-filtered lists of months and years as well??\n",
        "  \"\"\"\n",
        "  distance_index_dictionary = {value: index for index, value in enumerate(euclidian_distances)} # Gives the index in the original euclidian distances list for a value in the sorted list\n",
        "  sorted_distances = np.sort(euclidian_distances) # sort the distances from low to high euclidian distances\n",
        "  analogues_index_list = [] # create a list to save the indexes of the selected analogues\n",
        "  euclidian_distance_list = [] # create a list to save the euclidian distances of the selected analogues\n",
        "  selected_analogue_years = []\n",
        "  if event_is_in_data == True:\n",
        "    i = 1\n",
        "  elif event_is_in_data == False:\n",
        "    i=0 #index counter\n",
        "  while len(analogues_index_list) < target_number_of_analogues and (i < len(euclidian_distances)):\n",
        "    differences= []\n",
        "    index = distance_index_dictionary[sorted_distances[i]]\n",
        "    month = list_months[index]\n",
        "    year = list_years[index]\n",
        "    if len(analogues_index_list) == 0:\n",
        "      if month >= desired_start_month and month <= desired_end_month:\n",
        "        analogues_index_list.append(index)\n",
        "        euclidian_distance_list.append(sorted_distances[i])\n",
        "        selected_analogue_years.append(year)\n",
        "      i = i + 1\n",
        "    else:\n",
        "      if month >= desired_start_month and month <= desired_end_month:\n",
        "        for item in analogues_index_list:\n",
        "          difference = (index-item)\n",
        "          if difference < (-1*analogue_seperation_range) or difference > analogue_seperation_range:\n",
        "            differences.append(2) #goed\n",
        "          elif difference >= (-1*analogue_seperation_range) and difference <= (analogue_seperation_range):\n",
        "            differences.append(1) #niet goed\n",
        "        if min(differences) == 2:\n",
        "          analogues_index_list.append(index)\n",
        "          euclidian_distance_list.append(sorted_distances[i])\n",
        "          selected_analogue_years.append(year)\n",
        "          i = i + 1\n",
        "        elif min(differences) == 1:\n",
        "          i = i + 1\n",
        "      else:\n",
        "        i = i + 1\n",
        "  if len(analogues_index_list) < target_number_of_analogues:\n",
        "    print (\"WARNING: not enough data to find the required amount of analogues (zelf)\")\n",
        "  return analogues_index_list,euclidian_distance_list,selected_analogue_years"
      ]
    },
    {
      "cell_type": "code",
      "execution_count": null,
      "metadata": {
        "id": "crOIuyyADTt1"
      },
      "outputs": [],
      "source": [
        "def persistence(analogue_indexes,data,c_threshold):\n",
        "  \"\"\"\n",
        "Defines the persistence of each analogue based on a correlation threshold (>=). It returns a list with a list for each analogue, -1 is a day before the event, 1 is a day after the event.\n",
        "So if you want the total lenght of the event you still need to add the event itself? (nu wel in lenghts gedaan :) Also returns the correlations in the correct order.\n",
        "(als je dus de analogues bepaald heb met data gesliced op seizoen die ook hier gebruiken?)\n",
        "  \"\"\"\n",
        "  list_for_lists = [] #\n",
        "  list_for_lists_values = []\n",
        "  # nu 500 ook laatste dag dus kan niet vooruit\n",
        "  for index in analogue_indexes:\n",
        "    list_for_length = []\n",
        "    list_for_values = []\n",
        "    analogue_map = data[index]\n",
        "    Ab,Ac = np.shape(analogue_map)\n",
        "    analogue_af = analogue_map.reshape(Ab*Ac)\n",
        "\n",
        "    index_dag1 = index + 1\n",
        "    index_dag2 = index - 1\n",
        "    correlation = 1\n",
        "\n",
        "    while correlation >= c_threshold and index_dag2 >= 0:\n",
        "      day_data = data[index_dag2]\n",
        "      Bb,Bc = np.shape(day_data)\n",
        "      day_map_af = day_data.reshape(Bb*Bc)\n",
        "      correlation = pearsonr(analogue_af, day_map_af)[0]\n",
        "      if correlation >= c_threshold:\n",
        "        list_for_length.insert(0,-1)\n",
        "        list_for_values.insert(0,correlation) # dit is met insert dat is anders, dan doet ie het aan de voorkant dus dan staan de values echt op volgorde van de dag.\n",
        "      index_dag2 = index_dag2 - 1\n",
        "\n",
        "    correlation = 1\n",
        "\n",
        "    while correlation >= c_threshold and index_dag1 <= (len(data)-1):\n",
        "      day_data = data[index_dag1]\n",
        "      Bb,Bc = np.shape(day_data)\n",
        "      day_map_af = day_data.reshape(Bb*Bc)\n",
        "      correlation = pearsonr(analogue_af, day_map_af)[0]\n",
        "      if correlation >= c_threshold:\n",
        "        list_for_length.append(1)\n",
        "        list_for_values.append(correlation)\n",
        "      index_dag1 = index_dag1 + 1\n",
        "\n",
        "\n",
        "    list_for_lists.append(list_for_length) # nu dus niet anaologue zelf meegenomen in lengte dus voor lengte nog lengte lijst +1\n",
        "    list_for_lists_values.append(list_for_values)\n",
        "\n",
        "  list_for_lengths = []\n",
        "  for lijst in list_for_lists:\n",
        "    lengte = len(lijst) + 1\n",
        "    list_for_lengths.append(lengte)\n",
        "\n",
        "  return list_for_lists, list_for_lists_values,list_for_lengths"
      ]
    },
    {
      "cell_type": "code",
      "execution_count": null,
      "metadata": {
        "id": "ipXPSuJlDTt1"
      },
      "outputs": [],
      "source": [
        "def complete_and_mean_analogue_array(analogue_indexes_p1,data_p1,analogue_indexes_p2,data_p2):\n",
        "  \"\"\"\n",
        "    Gives the array with the data for the analogue and the mean of all the analogues and the difference between the two periods\n",
        "    the analogue array is sorted op analogue quality (not on time)\n",
        "  \"\"\"\n",
        "  list_for_p1 = []\n",
        "  list_for_p2 = []\n",
        "\n",
        "  for index in analogue_indexes_p1:\n",
        "    data_analogue = data_p1[index]\n",
        "    list_for_p1.append(data_analogue)\n",
        "\n",
        "  for index in analogue_indexes_p2:\n",
        "    data_analogue = data_p2[index]\n",
        "    list_for_p2.append(data_analogue)\n",
        "\n",
        "  array_p1 = np.array(list_for_p1) #maak van de list weer een array\n",
        "  mean_array_p1 = np.mean(array_p1, axis = 0)\n",
        "\n",
        "  array_p2 = np.array(list_for_p2) #maak van de list weer een array\n",
        "  mean_array_p2 = np.mean(array_p2, axis = 0)\n",
        "\n",
        "  difference_between_periods = mean_array_p2 - mean_array_p1\n",
        "  return difference_between_periods, mean_array_p1, mean_array_p2, array_p1, array_p2, list_for_p1, list_for_p2"
      ]
    },
    {
      "cell_type": "code",
      "execution_count": null,
      "metadata": {
        "id": "Kpld6WqWDTt1"
      },
      "outputs": [],
      "source": [
        "def typicality(analogue_distances, analogue_indexes,data,target_number_of_analogues,analogue_seperation_range,list_months,list_years,desired_start_month,desired_end_month,is_event_in_data):\n",
        "  \"\"\"\n",
        "Calculates the Tevent en Tanalogue. Distances need to be from the selected analogues only. Data has to be the one used to calculate the original analogues.\n",
        "  \"\"\"\n",
        "  Tevent = 1/(sum(analogue_distances))\n",
        "  list_for_Tanalogue = []\n",
        "  for i in range(len(analogue_indexes)):\n",
        "    index_in_used_data = analogue_indexes[i]\n",
        "    euclidian_distance_for_analogue = euclidian_distance(data,data[index_in_used_data])\n",
        "    index_for_analogues_for_analogue,distance_for_analogues_for_analogue, years_of_analogues_for_analogues = determine_analogues_era5(euclidian_distance_for_analogue, target_number_of_analogues,analogue_seperation_range,list_months,list_years,desired_start_month,desired_end_month,event_is_in_data = True )\n",
        "    Tanalogue = 1/(sum(distance_for_analogues_for_analogue))\n",
        "    list_for_Tanalogue.append(Tanalogue)\n",
        "  return Tevent, list_for_Tanalogue"
      ]
    },
    {
      "cell_type": "code",
      "execution_count": null,
      "metadata": {
        "id": "wv8zTV84DTt1"
      },
      "outputs": [],
      "source": [
        "def violin_plot(Tevent_past,Tevent_present,Tanalogue_past,Tanalogue_present,persistence_past,persistence_present,persistence_event,folder,name):\n",
        "  \"\"\"\n",
        "Doet het? maar stipjes van persistence standaard op 1 want hebt nog niet van event?\n",
        "  \"\"\"\n",
        "  u, p = stats.ttest_ind(Tanalogue_past, Tanalogue_present) #calculate p value\n",
        "  text_to_plot = f\"p = {p:.3f}\"\n",
        "\n",
        "  fig, (ax1,ax2) = plt.subplots(1,2,figsize = (8, 5))\n",
        "  violins = ax1.violinplot([Tanalogue_past, Tanalogue_present], [1, 1.6], showmeans=False, showextrema=False, showmedians=False)\n",
        "  colors = [\"magenta\", \"green\"]\n",
        "  for pc, color in zip(violins[\"bodies\"], colors): #pc zijn de violins dus moet zo als verschillende kleuren wil\n",
        "    pc.set_facecolor(color)\n",
        "  ax1.axhline(np.mean(Tanalogue_past), color = colors[0], linewidth = 3)\n",
        "  ax1.axhline(np.mean(Tanalogue_present), color = colors[1], linewidth = 3)\n",
        "  ax1.plot(1,Tevent_past, marker = \"o\", color = \"r\") #plot de events\n",
        "  ax1.plot(1.6,Tevent_present, marker = \"o\", color = \"r\")  #plot de events\n",
        "  ax1.set_xticks([1, 1.6])\n",
        "  ax1.set_xticklabels([\"Past\", \"Present\"])\n",
        "  ax1.set_ylim(top = (1.035*(max(max(Tanalogue_past),max(Tanalogue_present))))) # to ensure that the plotted p-value and graph do not overlap\n",
        "  ax1.text(0.035,0.95,text_to_plot,transform=ax1.transAxes)\n",
        "\n",
        "  u, p = stats.ttest_ind(persistence_past, persistence_present) #calculate p value\n",
        "  text_to_plot = f\"p = {p:.3f}\"\n",
        "\n",
        "  violins = ax2.violinplot([persistence_past, persistence_present], [1, 1.6], showmeans=False, showextrema=False, showmedians=False)\n",
        "  colors = [\"magenta\", \"green\"]\n",
        "  for pc, color in zip(violins[\"bodies\"], colors): #pc zijn de violins dus moet zo als verschillende kleuren wil\n",
        "    pc.set_facecolor(color)\n",
        "  ax2.axhline(np.mean(persistence_past), color = colors[0], linewidth = 3)\n",
        "  ax2.axhline(np.mean(persistence_present), color = colors[1], linewidth = 3)\n",
        "  ax2.plot(1,persistence_event, marker = \"o\", color = \"r\") #plot de events\n",
        "  ax2.plot(1.6,persistence_event, marker = \"o\", color = \"r\")  #plot de events\n",
        "  ax2.set_xticks([1, 1.6])\n",
        "  ax2.set_xticklabels([\"Past\", \"Present\"])\n",
        "  ax2.set_ylim(top = (1.07*(max(max(persistence_past),max(persistence_present))))) # to ensure that the plotted p-value and graph do not overlap\n",
        "  ax2.text(0.035,0.95,text_to_plot,transform=ax2.transAxes)\n",
        "\n",
        "  #plt.savefig(f\"{folder}/{name}.png\",dpi=300)\n",
        "  plt.show()\n",
        "  plt.close()\n"
      ]
    },
    {
      "cell_type": "code",
      "execution_count": null,
      "metadata": {
        "id": "FuMvTIR_DTt2"
      },
      "outputs": [],
      "source": [
        "def t_test(data1850,data1950,p_value):\n",
        "  \"\"\"\n",
        "Performs a two sides t-test, for a analogue difference map data1850 and data1950 should be lists with arrays for each analogue (so not already the mean!), p_value should be for example 0.05\n",
        "  \"\"\"\n",
        "  number_of_analogues = len(data1850)\n",
        "  significance_mask = data1850[0].copy()\n",
        "  a, b = np.shape(data1850[0])\n",
        "  for i in range(a): # for a x\n",
        "    #print(i)\n",
        "    for j in range(b): # check every y on that x\n",
        "      lijst1850 = []\n",
        "      lijst1950 = []\n",
        "      for R in range(number_of_analogues): # for each combination of x and y (so each cell) check each analogue\n",
        "        lijst1850.append(data1850[R][i,j])\n",
        "        lijst1950.append(data1950[R][i,j])\n",
        "      #u, p = stats.mannwhitneyu(loc_list1,loc_list2)\n",
        "      u, p = stats.ttest_ind(lijst1850, lijst1950)\n",
        "      if p < p_value:\n",
        "        significance_mask[i,j] = 1\n",
        "      else:\n",
        "        significance_mask[i,j] = 0\n",
        "  return significance_mask"
      ]
    },
    {
      "cell_type": "code",
      "execution_count": null,
      "metadata": {
        "id": "eD7NMrFjDTt2"
      },
      "outputs": [],
      "source": [
        "def plot_differencet(lat, lon, variable,significance_mask,folder,name):\n",
        "    plt.figure(figsize = (10,10))\n",
        "    ax = plt.axes(projection = ccrs.PlateCarree())\n",
        "    plot = plt.contourf(lon, lat, variable, cmap = \"RdBu_r\", transform = ccrs.PlateCarree(), levels = 15) #levels=np.linspace(-8.2e7, 1e7, 10), extend='both\n",
        "    ax.contourf( lon, lat,significance_mask, levels=[-2,0,2], hatches=[None, '////'], colors='none', transform=ccrs.PlateCarree())\n",
        "    ax.coastlines()\n",
        "    ax.add_feature(cf.BORDERS)\n",
        "    plt.colorbar(plot, ax=ax, orientation = \"horizontal\", label = \"Pressure (Pa)\", pad = 0.05)\n",
        "    #plt.savefig(f\"{folder}/{name}.png\",dpi=300)\n",
        "    plt.show()\n",
        "    plt.close()"
      ]
    },
    {
      "cell_type": "code",
      "execution_count": null,
      "metadata": {
        "id": "jM48AVToDTt2"
      },
      "outputs": [],
      "source": [
        "def plot_differencet_centeredt(lat, lon, variable,significance_mask,folder,name):\n",
        "    plt.figure(figsize = (10,10))\n",
        "    ax = plt.axes(projection = ccrs.PlateCarree())\n",
        "    plot = plt.contourf(lon, lat, variable, cmap = \"RdBu_r\", transform = ccrs.PlateCarree(), levels = 15, norm = CenteredNorm()) #levels=np.linspace(-8.2e7, 1e7, 10), extend='both\n",
        "    ax.contourf( lon, lat,significance_mask, levels=[-2,0,2], hatches=[None, '////'], colors='none', transform=ccrs.PlateCarree())\n",
        "    ax.coastlines()\n",
        "    ax.add_feature(cf.BORDERS)\n",
        "    plt.colorbar(plot, ax=ax, orientation = \"horizontal\", label = \"Pressure (Pa)\", pad = 0.05)\n",
        "    #plt.savefig(f\"{folder}/{name}.png\",dpi=300)\n",
        "    plt.show()\n",
        "    plt.close()"
      ]
    },
    {
      "cell_type": "code",
      "execution_count": null,
      "metadata": {
        "id": "r60BuUGoDTt2"
      },
      "outputs": [],
      "source": [
        "def yearly_minimum_euclidian_distance(euclidian_distances, yearlength = 360):\n",
        "  \"\"\"\n",
        "Finds the best analogue (lowest ecleudian distance) for each year to do trend analysis. Returns an array with the distances.\n",
        "  \"\"\"\n",
        "  distances_per_year = euclidian_distances.reshape((euclidian_distances.shape[0] // yearlength, yearlength))\n",
        "  return np.min(distances_per_year, axis = 1) #loopt blijkbaar al automatisch door alle jaren"
      ]
    },
    {
      "cell_type": "code",
      "execution_count": null,
      "metadata": {
        "id": "11-PbjGiDTt2"
      },
      "outputs": [],
      "source": [
        "def yearly_minimum_euclidian_distance2(euclidian_distances,yearlength,year_of_event,start_year, event_is_in_data):\n",
        "  \"\"\"\n",
        "Finds the best analogue (lowest ecleudian distance) for each year to do trend analysis. Returns an array with the distances.\n",
        "  \"\"\"\n",
        "  distances_per_year = euclidian_distances.reshape((euclidian_distances.shape[0] // yearlength, yearlength))\n",
        "  if event_is_in_data == False:\n",
        "    return np.min(distances_per_year, axis = 1) #loopt blijkbaar al automatisch door alle jaren\n",
        "  elif event_is_in_data == True:\n",
        "    list_for_minimums = []\n",
        "    for i in range(distances_per_year.shape[0]):\n",
        "      yearly_data = distances_per_year[i,:]\n",
        "      year = start_year + i\n",
        "      if year == year_of_event:\n",
        "        sorted_data = np.sort(yearly_data)\n",
        "        min_distance = sorted_data[1]\n",
        "        list_for_minimums.append(min_distance)\n",
        "      else:\n",
        "        min_distance = np.min(yearly_data)\n",
        "        list_for_minimums.append(min_distance)\n",
        "    array_min_distances = np.array(list_for_minimums)\n",
        "    return array_min_distances"
      ]
    },
    {
      "cell_type": "code",
      "execution_count": null,
      "metadata": {
        "id": "6ejr4Nk9DTt3"
      },
      "outputs": [],
      "source": [
        "def plot_trend(yearly_min_distance,distances, start_year, end_year, folder, name,running_mean_window = 1):\n",
        "  \"\"\"\n",
        "Moet wel goed checken dat length x_ticks and y_data hetzelfde is (dus 100 years, is 1850 tot en met 1949! dus ook end_year = 1949)\n",
        "  \"\"\"\n",
        "  plt.figure(figsize = (10,8))\n",
        "  max_distance = max(distances)\n",
        "  y_data = 1 - (yearly_min_distance/max_distance) # loopt ook somehow al door alle distances\n",
        "  running_mean = np.convolve(y_data, np.ones(running_mean_window) / running_mean_window, mode = \"valid\") #valid is dat rand niet doet (kan wel met 'same' maar dan voegt die nullen toe dus dan average fout,). Kernel (2e input) is weight voor verschillende plekken in window (hier overal gelijk?)\n",
        "  x_ticks = range(start_year, end_year + 1)\n",
        "  plt.ylabel(\"1 - (ED/EDmax)\")\n",
        "  plt.xlabel(\"Years\")\n",
        "\n",
        "  plt.plot(x_ticks,y_data)\n",
        "  if running_mean_window != 1:\n",
        "    plt.plot(range(start_year + (running_mean_window // 2 - 1), end_year - (running_mean_window // 2 - 1)),running_mean) #begin van bram, omdat eerste paar jaar niet window kan doen\n",
        "  #plt.savefig(f\"{folder}/{name}.png\",dpi=300)\n",
        "  plt.show()\n",
        "  plt.close()\n",
        "\n",
        "  return y_data, running_mean"
      ]
    },
    {
      "cell_type": "code",
      "execution_count": null,
      "metadata": {
        "id": "m4YEvGKFDTt3"
      },
      "outputs": [],
      "source": [
        "def plot_trend_combined_subplots(y_data_p1,y_data_p2,running_mean_data_p1,running_mean_data_p2, start_year1850,start_year1950, end_year1850,end_year1950, folder, name,running_mean_window = 1):\n",
        "  \"\"\"\n",
        "  Moet wel goed checken dat length x_ticks and y_data hetzelfde is (dus 100 years, is 1850 tot en met 1949! dus ook end_year = 1949)\n",
        "  \"\"\"\n",
        "  fig, (ax1,ax2) = plt.subplots(nrows = 1, ncols = 2,figsize = (10,4), sharey = True)\n",
        "  x_ticks1 = range(start_year1850, end_year1850 + 1)\n",
        "  x_ticks2 = range(start_year1950, end_year1950 + 1)\n",
        "  ax1.set_ylabel(\"1 - (ED/EDmax)\")\n",
        "  ax1.set_xlabel(\"Years\")\n",
        "  ax2.set_xlabel(\"Years\")\n",
        "\n",
        "  ax1.plot(x_ticks1,y_data_p1, c = \"darkturquoise\") #linewidth = 2\n",
        "  if running_mean_window != 1:\n",
        "    ax1.plot(range(start_year1850 + (running_mean_window // 2 - 1), end_year1850 - (running_mean_window // 2 - 1)),running_mean_data_p1, c = \"black\") #begin van bram, omdat eerste paar jaar niet window kan doen\n",
        "  ax2.plot(x_ticks2,y_data_p2, c = \"darkturquoise\") #linewidth = 2\n",
        "  if running_mean_window != 1:\n",
        "    ax2.plot(range(start_year1950 + (running_mean_window // 2 - 1), end_year1950 - (running_mean_window // 2 - 1)),running_mean_data_p2, c = \"black\") #begin van bram, omdat eerste paar jaar niet window kan doen\n",
        "  plt.subplots_adjust(wspace=0.1) # Adjust the horizontal space between the two plot (in percentage compared to the average axis-length?)\n",
        "  #plt.savefig(f\"{folder}/{name}.png\",dpi=300)\n",
        "  plt.show()\n",
        "  plt.close()"
      ]
    },
    {
      "cell_type": "code",
      "execution_count": null,
      "metadata": {
        "id": "gFxppyHvDTt3"
      },
      "outputs": [],
      "source": [
        "def prep_streamfunction(data):\n",
        "    \"\"\"\n",
        "    doen nadat bijgesneden op area\n",
        "    \"\"\"\n",
        "    list_for_new_data = []\n",
        "    for i in range(data.shape[0]):\n",
        "        data_day = data[i,:,:]\n",
        "        day_mean = np.mean(data_day)\n",
        "        new_data = data_day - day_mean\n",
        "        list_for_new_data.append(new_data)\n",
        "    new_array = np.array(list_for_new_data)\n",
        "\n",
        "    return new_array"
      ]
    },
    {
      "cell_type": "code",
      "execution_count": null,
      "metadata": {
        "id": "kfLKNxZBDTt3"
      },
      "outputs": [],
      "source": [
        "def determine_threshold_old(ed1,ed2):\n",
        "    \"\"\"\n",
        "    Hardcodes 5%\n",
        "    \"\"\"\n",
        "\n",
        "    ed_combined = np.concatenate((ed1, ed2))\n",
        "    length = ed_combined.shape[0]\n",
        "    five_percent_of_season_days = length*0.05\n",
        "    target_length = round(five_percent_of_season_days)\n",
        "    distances_sorted = np.sort(ed_combined)\n",
        "    threshold = distances_sorted[target_length-1]\n",
        "    print (f\"5% of days equals {target_length}, the threshold equals {threshold}\")\n",
        "    return threshold"
      ]
    },
    {
      "cell_type": "code",
      "execution_count": null,
      "metadata": {
        "id": "oern3IrNDTt3"
      },
      "outputs": [],
      "source": [
        "def determine_threshold(filtered_data,filtered_distances,threshold_for_the_amount_of_days):\n",
        "    \"\"\"\n",
        "    Hardcodes 5%\n",
        "    \"\"\"\n",
        "\n",
        "    length = filtered_data.shape[0]\n",
        "    five_percent_of_season_days = length*threshold_for_the_amount_of_days\n",
        "    target_length = round(five_percent_of_season_days)\n",
        "\n",
        "    distances_sorted = np.sort(filtered_distances)\n",
        "    threshold = distances_sorted[target_length-1]\n",
        "    print (f\"{threshold_for_the_amount_of_days} of {filtered_data.shape[0]} days equals {target_length}, the threshold equals {threshold}\")\n",
        "    return threshold"
      ]
    },
    {
      "cell_type": "markdown",
      "metadata": {
        "id": "2tqgl6x3DTt3"
      },
      "source": [
        "# **Set-up**"
      ]
    },
    {
      "cell_type": "code",
      "execution_count": null,
      "metadata": {
        "id": "CX5DsTd9DTt3"
      },
      "outputs": [],
      "source": [
        "#Select: \"regridded\" or \"original\", Als original data doet hebt kans dat kleiner gebied moet doen want doet EU data en dat data geupdate is dus dat lijst langer moet zijn met dates\n",
        "data_to_use = \"regridded\""
      ]
    },
    {
      "cell_type": "code",
      "execution_count": null,
      "metadata": {
        "id": "QPiEJdOpDTt4"
      },
      "outputs": [],
      "source": [
        "#Define the path where the data is located\n",
        "if data_to_use == \"regridded\":\n",
        "    #data_path_msl = \"/net/pc200246/nobackup/users/noest/ERA5_regridded/era5_psi500_daily_regridded.nc\"\n",
        "    data_path_msl = \"/net/pc200246/nobackup/users/noest/ERA5_regridded/era5_psi500_daily_regridded_1950_2023.nc\"\n",
        "elif data_to_use == \"original\":\n",
        "    data_path_msl = \"/net/pc200265/nobackup/users/pinto/phi500/era5_phi500.fixed.1degE.nc\""
      ]
    },
    {
      "cell_type": "code",
      "execution_count": null,
      "metadata": {
        "id": "HJfF6fB0DTt4"
      },
      "outputs": [],
      "source": [
        "#Define the path where the event is located (path to actual file), for the Vautard event: its downloaded using the global data so also use the global data to make sure the resolution is the same\n",
        "if data_to_use == \"regridded\":\n",
        "    event_path = \"/usr/people/noest/stage_folders/event_data/Vautard_southerlyflow_2019-06-29_regridded_streamfunction_data_at_index_25381.npy\"\n",
        "elif data_to_use == \"original\":\n",
        "    event_path = '/usr/people/noest/stage_folders/event_data/Vautard_southerlyflow_2019-06-29_original_streamfunction_data_at_index_25381.npy'"
      ]
    },
    {
      "cell_type": "code",
      "execution_count": null,
      "metadata": {
        "id": "GF8Zx2fJDTt4"
      },
      "outputs": [],
      "source": [
        "#Select the area to be analysed (for original is lat omgedraaid, iig extent eu data (gebruikt niet hier): lat (29.875-75.125) en lon(-30.125-40.125))\n",
        "bbox = [30,60,-30,20] #Pick borders like: [S,N,W,E]"
      ]
    },
    {
      "cell_type": "code",
      "execution_count": null,
      "metadata": {
        "id": "Bdd8_0FcDTt4"
      },
      "outputs": [],
      "source": [
        "#The latest date in the ERA5 dataset, for the regridded data its 2024, 2, 29\n",
        "final_yearV = 2024\n",
        "final_monthV = 12\n",
        "final_dayV = 31"
      ]
    },
    {
      "cell_type": "code",
      "execution_count": null,
      "metadata": {
        "id": "mzE1fpfWDTt4"
      },
      "outputs": [],
      "source": [
        "#Select the months and years that will be analysed for period 1 (V1) and period 2 (V2)\n",
        "#desired_start_monthV1 = 3 # 6 voor JJA en 3 voor MAM\n",
        "#desired_end_monthV1 = 5 # 8 voor JJA en 5 voor MAM\n",
        "desired_start_yearV1 = 1950 # 1950 for all data\n",
        "desired_end_yearV1 = 1986 # 2014 for model comparison, 2023 is the last complete year\n",
        "#desired_start_monthV2 = 3 # 6 voor JJA en 3 voor MAM\n",
        "#desired_end_monthV2 = 5 # 8 voor JJA en 5 voor MAM\n",
        "desired_start_yearV2 = 1987 # 1950 for all data\n",
        "desired_end_yearV2 = 2023 # 2014 for model comparison, 2023 is the last complete year"
      ]
    },
    {
      "cell_type": "code",
      "execution_count": null,
      "metadata": {
        "id": "OWdi-lS9DTt4"
      },
      "outputs": [],
      "source": [
        "#Determine how to look for analogues\n",
        "#euclidian_distance_thresholdV = 350000000 #vb 450000000\n",
        "target_number_of_analoguesV = 30 # How many analogues to find\n",
        "analogue_seperation_rangeV = 6 # How many days should the analogues be seperated by\n",
        "#event_is_in_dataV1 = False # Is the event in the filtered data? (For example, if event is in 2019, and period 1 is 1950-1979, than = False)(doet hierbij wel semi-filtered data? dus denk ook als kijkt naar spring en event in summer toch true? nope false want alleen toevoegen als maand goed is)\n",
        "#event_is_in_dataV2 = False"
      ]
    },
    {
      "cell_type": "code",
      "execution_count": null,
      "metadata": {
        "id": "ZzgqCa1dDTt5"
      },
      "outputs": [],
      "source": [
        "#Determine how to calculate the persistence (the minimum correlation coefficient a day needs in order to be taken into account as the same event)\n",
        "correlation_thresholdV = 0.9"
      ]
    },
    {
      "cell_type": "code",
      "execution_count": null,
      "metadata": {
        "id": "L07uy0hEDTt5"
      },
      "outputs": [],
      "source": [
        "#Set the year in which the event takes place to calculate the persistence of the event\n",
        "event_year = 2019\n",
        "event_month = 6"
      ]
    },
    {
      "cell_type": "code",
      "execution_count": null,
      "metadata": {
        "id": "Zr5bLLR3DTt5"
      },
      "outputs": [],
      "source": [
        "#Set the p value for the significance in the difference plots\n",
        "p_value_difference_mapsV = 0.05"
      ]
    },
    {
      "cell_type": "code",
      "execution_count": null,
      "metadata": {
        "id": "wrraD88MDTt-"
      },
      "outputs": [],
      "source": [
        "#Set the filtered yearlenght and running mean window for the trend plot\n",
        "filterd_yearlengthV = 92 # 92 voor JJA en MAM\n",
        "running_mean_windowV = 10 # If this = 1, no running mean window is plotted\n",
        "event_is_in_data_trendV1 = False # Is the event in the filtered data? (For example, if event is in 2019, and period 1 is 1950-1979, than = False)(Bij deze wel op seizoen letten! dus als kijkt naar spring en event in summer = False)\n",
        "event_is_in_data_trendV2 = False"
      ]
    },
    {
      "cell_type": "code",
      "execution_count": null,
      "metadata": {
        "id": "QTgLyED5DTt-"
      },
      "outputs": [],
      "source": [
        "#Determine the amount of analogue plots to save for each period\n",
        "amount_of_analogues_to_plot = 2"
      ]
    },
    {
      "cell_type": "code",
      "execution_count": null,
      "metadata": {
        "id": "XW7V3pnPDTt-"
      },
      "outputs": [],
      "source": [
        "#Determine which arrays to save"
      ]
    },
    {
      "cell_type": "code",
      "execution_count": null,
      "metadata": {
        "id": "zta2atUMDTt-"
      },
      "outputs": [],
      "source": [
        "# set the amount of months to plot after march #0.15 proberen\n",
        "amount_of_months = 7 # 6 is MAM and JJA\n",
        "threshold_for_the_amount_of_daysV = 0.05 #0.15 proberen (met 8 maanden)"
      ]
    },
    {
      "cell_type": "markdown",
      "metadata": {
        "id": "Ohv4nkxGDTt_"
      },
      "source": [
        "# **Uitvoeren**"
      ]
    },
    {
      "cell_type": "code",
      "execution_count": null,
      "metadata": {
        "id": "hBiITL67DTt_"
      },
      "outputs": [],
      "source": [
        "#Load data\n",
        "lat_global,lon_global,msl_levels = load_data(data_path_msl,\"lat\",\"lon\",\"stream\")\n",
        "msl_global = np.squeeze(msl_levels)"
      ]
    },
    {
      "cell_type": "code",
      "execution_count": null,
      "metadata": {
        "id": "Om3rOxyBDTt_"
      },
      "outputs": [],
      "source": [
        "#Load event\n",
        "event_msl_global = np.load(event_path)"
      ]
    },
    {
      "cell_type": "code",
      "execution_count": null,
      "metadata": {
        "id": "59lYNVAgDTt_"
      },
      "outputs": [],
      "source": [
        "#Determine the boundaries to use\n",
        "if data_to_use == \"regridded\":\n",
        "    S1 = bbox[0] # for serious_run1 = 30 en 70 als data_to_use = \"original\"\n",
        "    N1 = bbox[1] # for serious_run1 = 70 en 30 als data_to_use = \"original\"\n",
        "    W1 = bbox[2] # for serious_run1 = -30\n",
        "    E1 = bbox[3] # for serious_run1 = 30\n",
        "elif data_to_use == \"original\":\n",
        "    S1 = bbox[1] # for serious_run1 = 30 en 70 als data_to_use = \"original\"\n",
        "    N1 = bbox[0] # for serious_run1 = 70 en 30 als data_to_use = \"original\"\n",
        "    W1 = bbox[2] # for serious_run1 = -30\n",
        "    E1 = bbox[3] # for serious_run1 = 30"
      ]
    },
    {
      "cell_type": "code",
      "execution_count": null,
      "metadata": {
        "id": "Mq0x3Jq_FbqX"
      },
      "outputs": [],
      "source": [
        "lijst_p1 = []\n",
        "lijst_p2 = []\n",
        "\n",
        "month_counter = 3 #laten staan voor threshold\n",
        "#for maand in range(amount_of_months): # 6 is MAM and JJA\n",
        "#selected_month = month_counter + maand\n",
        "#print (f\"selected_month = {selected_month} \")\n",
        "\n",
        "desired_start_monthV1 = 3\n",
        "desired_end_monthV1 = 9\n",
        "desired_start_monthV2 = 3\n",
        "desired_end_monthV2 = 9\n",
        "\n",
        "#Extract area\n",
        "lat_box, lon_box, msl_box_og = extract_area(S1,N1,W1,E1,lat_global,lon_global,msl_global, event = False)\n",
        "msl_box = prep_streamfunction(msl_box_og)\n",
        "\n",
        "#Extract areaa\n",
        "lat_box2, lon_box2, event_box_og = extract_area(S1,N1,W1,E1,lat_global,lon_global,event_msl_global, event = True)\n",
        "event_box = prep_streamfunction(event_box_og)\n",
        "\n",
        "#Create lists with the months, years and complete dates of the era5 data\n",
        "list_with_months, list_with_years, list_with_dates = lists_for_era5_dates(final_yearV,final_monthV,final_dayV)\n",
        "\n",
        "#Extract the periods and the seasons, semi_filtered is all months so the index for the analogue_seperation_range doesn't continue between years\n",
        "msl_box_semi_filtered_p1,filtered_years_list_p1,filtered_months_list_p1 = extract_years_and_months_era5(msl_box,1,12,desired_start_yearV1,desired_end_yearV1,list_with_months, list_with_years)\n",
        "msl_box_semi_filtered_p2,filtered_years_list_p2,filtered_months_list_p2 = extract_years_and_months_era5(msl_box,1,12,desired_start_yearV2,desired_end_yearV2,list_with_months, list_with_years)\n",
        "\n",
        "#Calculate euclidian distances\n",
        "euclidian_distance_p1 = euclidian_distance(msl_box_semi_filtered_p1,event_box)\n",
        "euclidian_distance_p2 = euclidian_distance(msl_box_semi_filtered_p2,event_box)\n",
        "\n",
        "if (np.min(euclidian_distance_p2)) == 0:\n",
        "    event_is_in_dataV2 = True\n",
        "else:\n",
        "    event_is_in_dataV2 = False\n",
        "if (np.min(euclidian_distance_p1)) == 0:\n",
        "    event_is_in_dataV1 = True\n",
        "else:\n",
        "    event_is_in_dataV1 = False\n",
        "\n",
        "#Set threshold\n",
        "#euclidian_distance_thresholdV = determine_threshold_old(euclidian_distance_p1,euclidian_distance_p2)\n",
        "\n",
        "#Set threshold new\n",
        "p_long_season,_,_ = extract_years_and_months_era5(msl_box,month_counter,(amount_of_months+month_counter-1),desired_start_yearV1,desired_end_yearV2,list_with_months, list_with_years)\n",
        "distances_long_season = euclidian_distance(p_long_season,event_box)\n",
        "euclidian_distance_thresholdV = determine_threshold(p_long_season,distances_long_season,threshold_for_the_amount_of_daysV)\n",
        "\n",
        "#Find analogues\n",
        "analogues_index_list_p1,euclidian_distance_list_p1,selected_analogue_months_p1 = frequency(euclidian_distance_p1, euclidian_distance_thresholdV,analogue_seperation_rangeV,filtered_months_list_p1,filtered_years_list_p1,desired_start_monthV1,desired_end_monthV1,event_is_in_data = event_is_in_dataV1)\n",
        "analogues_index_list_p2,euclidian_distance_list_p2,selected_analogue_months_p2 = frequency(euclidian_distance_p2, euclidian_distance_thresholdV,analogue_seperation_rangeV,filtered_months_list_p2,filtered_years_list_p2,desired_start_monthV2,desired_end_monthV2,event_is_in_data = event_is_in_dataV2)\n",
        "\n",
        "\n",
        "#New\n",
        "if min(selected_analogue_months_p1) < 3 or max(selected_analogue_months_p1) > 9:\n",
        "  print (\"WARNING: something went wrong in finding the analogues\")\n",
        "if min(selected_analogue_months_p2) < 3 or max(selected_analogue_months_p2) > 9:\n",
        "  print (\"WARNING: something went wrong in finding the analogues\")\n",
        "if len(analogues_index_list_p1) != len(selected_analogue_months_p1):\n",
        "  print (\"WARNING: something went wrong in finding the analogues\")\n",
        "if len(analogues_index_list_p2) != len(selected_analogue_months_p2):\n",
        "  print (\"WARNING: something went wrong in finding the analogues\")\n",
        "\n",
        "month_counter = 3 #laten staan voor threshold\n",
        "for maand in range(amount_of_months): # 6 is MAM and JJA (doet 7)\n",
        "  selected_month = month_counter + maand\n",
        "  counter = selected_analogue_months_p1.count(selected_month)\n",
        "  lijst_p1.append(counter)\n",
        "\n",
        "month_counter = 3 #laten staan voor threshold\n",
        "for maanden in range(amount_of_months): # 6 is MAM and JJA (doet 7)\n",
        "  selected_month2 = month_counter + maanden\n",
        "  counter2 = selected_analogue_months_p2.count(selected_month2)\n",
        "  lijst_p2.append(counter2)\n",
        "\n",
        "print (lijst_p1)\n",
        "print (lijst_p2)"
      ]
    },
    {
      "cell_type": "code",
      "execution_count": null,
      "metadata": {
        "id": "ZDlrmReLDTuA"
      },
      "outputs": [],
      "source": [
        "# List for x-axis labels\n",
        "x_labels_list = ['M', 'A', 'M', 'J', 'J', 'A', 'S', 'O', \"N\", \"D\"]\n",
        "x_labels = []\n",
        "x_values = []\n",
        "for i in range(amount_of_months):\n",
        "    label_to_add = x_labels_list[i]\n",
        "    x_labels.append(label_to_add)\n",
        "    x_values.append(i)\n",
        "\n",
        "# Create figure and axis\n",
        "fig, ax = plt.subplots(figsize=(6, 4.2))  # Adjust the figsize as needed\n",
        "\n",
        "# Plot the data with open circles and dashed lines\n",
        "line1 = ax.plot(x_values, lijst_p1, marker='o', linestyle=(0,(5,10)), markeredgecolor='#059a9c',markerfacecolor = None, color = \"#05a9ab\",label = f\"{desired_start_yearV1}-{desired_end_yearV1}\") # tab cyan darktur (lightseagreen tabcyan) #00bfc2\n",
        "line2 =ax.plot(x_values, lijst_p2, marker='o', linestyle=(0,(5,10)), markeredgecolor='#fa543e',markerfacecolor = None, color = \"tomato\",label = f\"{desired_start_yearV2}-{desired_end_yearV2}\") #red tomata\n",
        "\n",
        "# Set x-axis labels\n",
        "ax.set_xticks(x_values)\n",
        "ax.set_xticklabels(x_labels)\n",
        "\n",
        "# Add labels and title\n",
        "ax.set_xlabel('Month')\n",
        "ax.set_ylabel('Number of analogues')\n",
        "ax.set_ylim(0)\n",
        "\n",
        "line1 = Line2D([], [], linestyle=\"\", color='#059a9c', marker='o', label=f\"{desired_start_yearV1}-{desired_end_yearV1}\")\n",
        "line2 = Line2D([], [], linestyle=\"\", color='#fa543e', marker='o', label=f\"{desired_start_yearV2}-{desired_end_yearV2}\")\n",
        "\n",
        "#plt.legend(loc='upper left',fontsize = 9,frameon = False)\n",
        "plt.legend(handles=[line1,line2], loc='upper left',fontsize = 9,frameon = False,markerscale = 0.9)\n",
        "\n",
        "# Show the plot\n",
        "plt.savefig(\"/usr/people/noest/stage_folders/outputs/figures_net/TEST_frequency_prepped_5%_2023_y_axis_new.png\",dpi=600)\n",
        "plt.show()"
      ]
    },
    {
      "cell_type": "markdown",
      "metadata": {
        "id": "fwzodIPYDTuB"
      },
      "source": [
        "# **Proberen**"
      ]
    },
    {
      "cell_type": "code",
      "execution_count": null,
      "metadata": {
        "id": "6TcIKVx6DTuB"
      },
      "outputs": [],
      "source": [
        "def plot_threshold_new(p_filtered,distances_filtered,threshold_for_the_amount_of_days):\n",
        "    threshold = determine_threshold(p_filtered,distances_filtered,threshold_for_the_amount_of_days)\n",
        "    counter = 0\n",
        "    threshold_condition = 0\n",
        "    while threshold_condition != threshold:\n",
        "        threshold_condition = distances_filtered[counter]\n",
        "        if threshold_condition == threshold:\n",
        "            print (counter)\n",
        "        else:\n",
        "            counter = counter + 1\n",
        "    print (f\"{threshold} should equal {distances_filtered[counter]}\")\n",
        "    if p_filtered.shape[0] != len(distances_filtered):\n",
        "        print (\"WARNING, something goes wrong\")\n",
        "    plot_variablelevels(lat_box,lon_box,p_filtered[counter],\"test\",\"test\")"
      ]
    },
    {
      "cell_type": "code",
      "execution_count": null,
      "metadata": {
        "id": "rknv-qlkDTuB"
      },
      "outputs": [],
      "source": [
        "#plot_threshold_new(p_long_season,distances_long_season,threshold_for_the_amount_of_daysV)"
      ]
    },
    {
      "cell_type": "code",
      "execution_count": null,
      "metadata": {
        "id": "bVg6SMeXDTuB"
      },
      "outputs": [],
      "source": [
        "#plot_variablet(lat_box,lon_box,event_box[0],\"test\",\"test\")"
      ]
    },
    {
      "cell_type": "code",
      "execution_count": null,
      "metadata": {
        "id": "yM2jvHsGDTuC"
      },
      "outputs": [],
      "source": [
        "#Extract areaa\n",
        "# lat_box5, lon_box5, event_box_og5 = extract_area(15,85,-75,75,lat_global,lon_global,event_msl_global, event = True)\n",
        "# event_box5 = prep_streamfunction(event_box_og5)\n",
        "# plot_variablet(lat_box5,lon_box5,event_box5[0],\"test\",\"test\")"
      ]
    }
  ],
  "metadata": {
    "colab": {
      "collapsed_sections": [
        "H0ab46MpDTtT",
        "pJ_HoZF-DTtW",
        "fwzodIPYDTuB"
      ],
      "provenance": []
    },
    "kernelspec": {
      "display_name": "knmi",
      "language": "python",
      "name": "python3"
    },
    "language_info": {
      "codemirror_mode": {
        "name": "ipython",
        "version": 3
      },
      "file_extension": ".py",
      "mimetype": "text/x-python",
      "name": "python",
      "nbconvert_exporter": "python",
      "pygments_lexer": "ipython3",
      "version": "3.12.1"
    }
  },
  "nbformat": 4,
  "nbformat_minor": 0
}
